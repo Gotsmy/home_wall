{
 "cells": [
  {
   "cell_type": "code",
   "execution_count": 7,
   "id": "6cf82929",
   "metadata": {},
   "outputs": [],
   "source": [
    "import numpy as np\n",
    "import json\n",
    "import os"
   ]
  },
  {
   "cell_type": "code",
   "execution_count": 12,
   "id": "4f77d380",
   "metadata": {},
   "outputs": [],
   "source": [
    "routes = {\n",
    "    \"Potential 6C\": {\n",
    "        \"grade\": \"6C\",\n",
    "        \"tag\": \"light blue\",\n",
    "        \"comment\": \"\",\n",
    "        \"start\": [\"6C\",\"5F\"],\n",
    "        \"top\": [\"15B\"],\n",
    "        \"hands\": [\"10F\",\"12C\",\"13G\"],\n",
    "        \"feet\": [\"2B\",\"2F\"]\n",
    "    },\n",
    "}"
   ]
  },
  {
   "cell_type": "code",
   "execution_count": 13,
   "id": "535c873f",
   "metadata": {},
   "outputs": [],
   "source": [
    "with open('saved_routes/240512.json', 'w') as f:\n",
    "    # write the dictionary to the file in JSON format\n",
    "    json.dump(routes, f)"
   ]
  },
  {
   "cell_type": "code",
   "execution_count": 14,
   "id": "c2b9ec7e",
   "metadata": {},
   "outputs": [],
   "source": [
    "def load_routes(version=\"newest\"):\n",
    "    saved_routes = os.listdir(\"saved_routes\")\n",
    "    if version == \"newest\":\n",
    "        version = sorted(saved_routes)[-1]\n",
    "    with open(os.path.join('saved_routes',version), 'r') as f:\n",
    "        # write the dictionary to the file in JSON format\n",
    "        routes = json.load(f)\n",
    "    return routes"
   ]
  },
  {
   "cell_type": "code",
   "execution_count": 15,
   "id": "4eae3b3a",
   "metadata": {},
   "outputs": [
    {
     "data": {
      "text/plain": [
       "{'Potential 6C': {'grade': '6C',\n",
       "  'tag': 'light blue',\n",
       "  'comment': '',\n",
       "  'start': ['6C', '5F'],\n",
       "  'top': ['15B'],\n",
       "  'hands': ['10F', '12C', '13G'],\n",
       "  'feet': ['2B', '2F']}}"
      ]
     },
     "execution_count": 15,
     "metadata": {},
     "output_type": "execute_result"
    }
   ],
   "source": [
    "load_routes()"
   ]
  },
  {
   "cell_type": "code",
   "execution_count": null,
   "id": "bf55f9c2",
   "metadata": {},
   "outputs": [],
   "source": []
  }
 ],
 "metadata": {
  "kernelspec": {
   "display_name": "Python 3 (ipykernel)",
   "language": "python",
   "name": "python3"
  },
  "language_info": {
   "codemirror_mode": {
    "name": "ipython",
    "version": 3
   },
   "file_extension": ".py",
   "mimetype": "text/x-python",
   "name": "python",
   "nbconvert_exporter": "python",
   "pygments_lexer": "ipython3",
   "version": "3.11.7"
  }
 },
 "nbformat": 4,
 "nbformat_minor": 5
}
