{
 "cells": [
  {
   "cell_type": "code",
   "execution_count": 13,
   "id": "6cf82929",
   "metadata": {
    "tags": []
   },
   "outputs": [],
   "source": [
    "import numpy as np\n",
    "import json\n",
    "import os"
   ]
  },
  {
   "cell_type": "code",
   "execution_count": 14,
   "id": "4f77d380",
   "metadata": {
    "tags": []
   },
   "outputs": [],
   "source": [
    "    # \"ROUTENAME\": {\n",
    "    #     \"grade\": \"\",\n",
    "    #     \"tag\": \"\",\n",
    "    #     \"comment\": \"\",\n",
    "    #     \"established\": \"240400\",\n",
    "    #     \"start\": [],\n",
    "    #     \"top\": [],\n",
    "    #     \"hands\": [],\n",
    "    #     \"feet\": []\n",
    "    # },\n",
    "\n",
    "routes = {\n",
    "    \"Potential 6C\": {\n",
    "        \"grade\": \"6C\",\n",
    "        \"tag\": \"light blue\",\n",
    "        \"comment\": \"\",\n",
    "        \"established\": \"240400\",\n",
    "        \"start\": [\"6C\",\"5F\"],\n",
    "        \"top\": [\"15B\"],\n",
    "        \"hands\": [\"10F\",\"12C\",\"13G\"],\n",
    "        \"feet\": [\"2B\",\"2F\"]\n",
    "    },\n",
    "    \"Isi Cheezy\": {\n",
    "        \"grade\": \"6A\",\n",
    "        \"tag\": \"red\",\n",
    "        \"comment\": \"\",\n",
    "        \"established\": \"240400\",\n",
    "        \"start\": [\"4H\",\"4K\"],\n",
    "        \"top\": [\"15H\"],\n",
    "        \"hands\": [\"6K\",\"7G\",\"9K\",\"11H\",\"14I\"],\n",
    "        \"feet\": [\"3L\"]\n",
    "    },\n",
    "    \"Day 1 Fun\": {\n",
    "        \"grade\": \"6B\",\n",
    "        \"tag\": \"green\",\n",
    "        \"comment\": \"\",\n",
    "        \"established\": \"240400\",\n",
    "        \"start\": [\"5B\",\"4D\"],\n",
    "        \"top\": [\"14I\"],\n",
    "        \"hands\": [\"9B\",\"10F\",\"14D\"],\n",
    "        \"feet\": [\"5J\"]\n",
    "    },\n",
    "}"
   ]
  },
  {
   "cell_type": "code",
   "execution_count": 15,
   "id": "0223b328-c560-41d4-b39a-0f4fc76c2ce4",
   "metadata": {
    "tags": []
   },
   "outputs": [],
   "source": [
    "# process routes dictionary\n",
    "for route_name, route in routes.items():\n",
    "    routes[route_name][\"route_id\"] = route_name.replace(\" \",\"_\")"
   ]
  },
  {
   "cell_type": "code",
   "execution_count": 16,
   "id": "535c873f",
   "metadata": {
    "tags": []
   },
   "outputs": [],
   "source": [
    "with open('saved_routes/240512.json', 'w') as f:\n",
    "    # write the dictionary to the file in JSON format\n",
    "    json.dump(routes, f)"
   ]
  },
  {
   "cell_type": "code",
   "execution_count": 17,
   "id": "c2b9ec7e",
   "metadata": {
    "tags": []
   },
   "outputs": [],
   "source": [
    "def load_routes(version=\"newest\"):\n",
    "    saved_routes = os.listdir(\"saved_routes\")\n",
    "    if version == \"newest\":\n",
    "        version = sorted(saved_routes)[-1]\n",
    "    with open(os.path.join('saved_routes',version), 'r') as f:\n",
    "        # write the dictionary to the file in JSON format\n",
    "        routes = json.load(f)\n",
    "    return routes"
   ]
  },
  {
   "cell_type": "code",
   "execution_count": 18,
   "id": "4eae3b3a",
   "metadata": {
    "tags": []
   },
   "outputs": [
    {
     "data": {
      "text/plain": [
       "{'Potential 6C': {'grade': '6C',\n",
       "  'tag': 'light blue',\n",
       "  'comment': '',\n",
       "  'established': '240400',\n",
       "  'start': ['6C', '5F'],\n",
       "  'top': ['15B'],\n",
       "  'hands': ['10F', '12C', '13G'],\n",
       "  'feet': ['2B', '2F'],\n",
       "  'route_id': 'Potential_6C'},\n",
       " 'Isi Cheezy': {'grade': '6A',\n",
       "  'tag': 'red',\n",
       "  'comment': '',\n",
       "  'established': '240400',\n",
       "  'start': ['4H', '4K'],\n",
       "  'top': ['15H'],\n",
       "  'hands': ['6K', '7G', '9K', '11H', '14I'],\n",
       "  'feet': ['3L'],\n",
       "  'route_id': 'Isi_Cheezy'},\n",
       " 'Day 1 Fun': {'grade': '6B',\n",
       "  'tag': 'green',\n",
       "  'comment': '',\n",
       "  'established': '240400',\n",
       "  'start': ['5B', '4D'],\n",
       "  'top': ['14I'],\n",
       "  'hands': ['9B', '10F', '14D'],\n",
       "  'feet': ['5J'],\n",
       "  'route_id': 'Day_1_Fun'}}"
      ]
     },
     "execution_count": 18,
     "metadata": {},
     "output_type": "execute_result"
    }
   ],
   "source": [
    "load_routes()"
   ]
  },
  {
   "cell_type": "code",
   "execution_count": null,
   "id": "bf55f9c2",
   "metadata": {},
   "outputs": [],
   "source": []
  }
 ],
 "metadata": {
  "kernelspec": {
   "display_name": "Python 3",
   "language": "python",
   "name": "python3"
  },
  "language_info": {
   "codemirror_mode": {
    "name": "ipython",
    "version": 3
   },
   "file_extension": ".py",
   "mimetype": "text/x-python",
   "name": "python",
   "nbconvert_exporter": "python",
   "pygments_lexer": "ipython3",
   "version": "3.10.12"
  }
 },
 "nbformat": 4,
 "nbformat_minor": 5
}
